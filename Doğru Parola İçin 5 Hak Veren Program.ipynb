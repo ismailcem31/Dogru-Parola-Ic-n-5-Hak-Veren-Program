{
 "cells": [
  {
   "cell_type": "code",
   "execution_count": null,
   "id": "e59b339c",
   "metadata": {},
   "outputs": [],
   "source": [
    "sayi = 1\n",
    "while sayi <= 5:\n",
    "    cevap = int(input(\"Parola giriniz.\"))\n",
    "    if cevap == 123:\n",
    "\t    print(\"Girdiğiniz parola doğru\")\n",
    "    else:\n",
    "        print(\"Girdiğiniz parola yanlış\")\n",
    "    sayi +=1    \n",
    "print (\"\\nHakkınız bitti.\")"
   ]
  }
 ],
 "metadata": {
  "kernelspec": {
   "display_name": "Python 3 (ipykernel)",
   "language": "python",
   "name": "python3"
  },
  "language_info": {
   "codemirror_mode": {
    "name": "ipython",
    "version": 3
   },
   "file_extension": ".py",
   "mimetype": "text/x-python",
   "name": "python",
   "nbconvert_exporter": "python",
   "pygments_lexer": "ipython3",
   "version": "3.11.3"
  }
 },
 "nbformat": 4,
 "nbformat_minor": 5
}
